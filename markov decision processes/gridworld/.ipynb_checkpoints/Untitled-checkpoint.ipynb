{
 "cells": [
  {
   "cell_type": "code",
   "execution_count": 5,
   "metadata": {},
   "outputs": [],
   "source": [
    "import numpy as np\n",
    "from time import sleep\n",
    "from IPython.display import clear_output"
   ]
  },
  {
   "cell_type": "code",
   "execution_count": 6,
   "metadata": {},
   "outputs": [],
   "source": [
    "rows = 5\n",
    "cols = 5\n",
    "a = (0,1)\n",
    "A = (4, 1)\n",
    "b = (0, 3)\n",
    "B = (2, 3)\n",
    "start_state = (np.random.randint(0, rows), np.random.randint(0, cols))\n",
    "n_trails = 100\n",
    "\n",
    "class gridworld:\n",
    "    def __init__(self, position=start_state, n_trails=n_trails):\n",
    "        #duration\n",
    "        self.n_trails = n_trails\n",
    "\n",
    "        #creating the grid\n",
    "        self.grid = np.zeros([rows, cols])\n",
    "        \n",
    "        #states \n",
    "        self.previous_states = [(0,0)]\n",
    "        self.current_state = position\n",
    "        \n",
    "        self.total_rewards = 0\n",
    "        self.all_actions = []\n",
    "        self.all_rewards = []\n",
    "        self.all_states = []\n",
    "        \n",
    "    def move(self, action):\n",
    "        \"\"\"\n",
    "        0 = north\n",
    "        1 = east\n",
    "        2 = south \n",
    "        3 = west\"\"\"\n",
    "        \n",
    "        if action == 'up':\n",
    "            next_state = (self.current_state[0] - 1, self.current_state[1])\n",
    "            \n",
    "        elif action == 'down':\n",
    "            next_state = (self.current_state[0] + 1, self.current_state[1])\n",
    "            \n",
    "        elif action == 'left':\n",
    "            next_state = (self.current_state[0], self.current_state[1] - 1)\n",
    "            \n",
    "        elif action == 'right':\n",
    "            next_state = (self.current_state[0], self.current_state[1] + 1)\n",
    "        \n",
    "        if (next_state[0] >= 0) & (next_state[0] <= rows - 1):\n",
    "            if (next_state[1] >= 0) & (next_state[1] <= cols - 1):\n",
    "                return next_state\n",
    "        \n",
    "        return self.current_state\n",
    "\n",
    " \n",
    "    def reward(self):\n",
    "        if (self.current_state == a):\n",
    "            self.current_state = A\n",
    "            return 10\n",
    "        \n",
    "        elif (self.current_state == b):\n",
    "            self.current_state = B\n",
    "            return 5\n",
    "        \n",
    "        elif (self.current_state == self.previous_states[-1]):\n",
    "            return -1\n",
    "        else:\n",
    "            return 0\n",
    "        \n",
    "    def show(self):\n",
    "        temp = np.zeros([rows, cols])\n",
    "        temp[self.current_state] = 1\n",
    "        print(temp)\n",
    "        self.all_states.append(temp)\n",
    "        \n",
    "    def run(self, agent):\n",
    "\n",
    "        for i in range(self.n_trails):\n",
    "            \n",
    "            action = agent.choose()\n",
    "            self.current_state = self.move(action)\n",
    "            \n",
    "            reward = self.reward()\n",
    "            self.total_rewards += reward\n",
    "            \n",
    "            clear_output(wait=True)\n",
    "            self.show()\n",
    "            print('old state:{}, action:{}, new state:{}, reward:{}'.format(self.previous_states[-1], action, self.current_state, reward))\n",
    "            sleep(.5) \n",
    "            \n",
    "            self.previous_states.append(self.current_state)\n",
    "            self.all_actions.append(action)\n",
    "            self.all_rewards.append(reward)\n",
    "            \n",
    "        return self.total_rewards\n",
    "\n",
    "        "
   ]
  },
  {
   "cell_type": "code",
   "execution_count": 7,
   "metadata": {},
   "outputs": [],
   "source": [
    "class BaseSampliler:\n",
    "    \n",
    "    def __init__(self, env):\n",
    "        self.env = env\n",
    "        self.choice = 0"
   ]
  },
  {
   "cell_type": "code",
   "execution_count": 8,
   "metadata": {},
   "outputs": [],
   "source": [
    "class random(BaseSampliler):\n",
    "    def __init__(self, env):\n",
    "        super().__init__(env)\n",
    "        \n",
    "    def choose(self):\n",
    "        \n",
    "        self.choice = np.random.choice(['up', 'down', 'left', 'right'])\n",
    "        \n",
    "        return self.choice"
   ]
  },
  {
   "cell_type": "code",
   "execution_count": 9,
   "metadata": {},
   "outputs": [
    {
     "name": "stdout",
     "output_type": "stream",
     "text": [
      "[[0. 0. 0. 0. 0.]\n",
      " [0. 0. 0. 0. 0.]\n",
      " [0. 0. 0. 0. 0.]\n",
      " [0. 0. 0. 0. 0.]\n",
      " [1. 0. 0. 0. 0.]]\n",
      "old state:(4, 1), action:left, new state:(4, 0), reward:0\n"
     ]
    },
    {
     "data": {
      "text/plain": [
       "3"
      ]
     },
     "execution_count": 9,
     "metadata": {},
     "output_type": "execute_result"
    }
   ],
   "source": [
    "en0 = gridworld()\n",
    "r = random(en0)\n",
    "en0.run(agent=r)"
   ]
  },
  {
   "cell_type": "code",
   "execution_count": null,
   "metadata": {},
   "outputs": [],
   "source": []
  }
 ],
 "metadata": {
  "kernelspec": {
   "display_name": "Python 3",
   "language": "python",
   "name": "python3"
  },
  "language_info": {
   "codemirror_mode": {
    "name": "ipython",
    "version": 3
   },
   "file_extension": ".py",
   "mimetype": "text/x-python",
   "name": "python",
   "nbconvert_exporter": "python",
   "pygments_lexer": "ipython3",
   "version": "3.5.2"
  }
 },
 "nbformat": 4,
 "nbformat_minor": 4
}

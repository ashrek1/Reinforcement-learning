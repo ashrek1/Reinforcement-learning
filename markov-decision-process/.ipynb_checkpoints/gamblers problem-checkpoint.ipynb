{
 "cells": [
  {
   "cell_type": "code",
   "execution_count": 123,
   "metadata": {},
   "outputs": [],
   "source": [
    "import numpy as np\n",
    "from IPython.display import clear_output\n",
    "from time import sleep\n",
    "import matplotlib.pyplot as plt"
   ]
  },
  {
   "cell_type": "code",
   "execution_count": 137,
   "metadata": {},
   "outputs": [],
   "source": [
    "prob_lose=.5\n",
    "class gamblers_problem:\n",
    "    def __init__(self, prob_win):\n",
    "        self.state = np.random.randint(1, 100)\n",
    "        self.not_over = True\n",
    "        self.reward = 0\n",
    "        self.prob_win = prob_win\n",
    "        \n",
    "        self.all_bets = []\n",
    "        self.capitol  = []\n",
    "        self.end_condition = []\n",
    "        \n",
    "    def bet_result(self, stake):\n",
    "        if np.random.random() > self.prob_win:\n",
    "            self.state = self.state + stake\n",
    "            #print('the gambiler the gambiler won ')\n",
    "            return int(self.state)\n",
    "        else:\n",
    "            self.state -= stake\n",
    "            #print('the gambiler lost')\n",
    "            return int(self.state)\n",
    "            \n",
    "    def give_reward(self):\n",
    "        if self.state <= 0:\n",
    "            self.not_over = False\n",
    "            return -1\n",
    "        elif self.state >= 100:\n",
    "            self.not_over = False\n",
    "            return +1\n",
    "        else:\n",
    "            return 0\n",
    "        \n",
    "    def run(self, agent):\n",
    "        rounds = 1\n",
    "        while self.not_over:\n",
    "            #clear_output(wait=True)\n",
    "            #print('round {}'.format(rounds))\n",
    "            #print()\n",
    "            #print('the gambiler currently has: ${}'.format(self.state))\n",
    "            \n",
    "            stake = agent.bet()\n",
    "            self.all_bets.append(stake)\n",
    "            #print('the gambiler bet: ${}'.format(stake))\n",
    "            \n",
    "            \n",
    "            self.state = self.bet_result(stake)\n",
    "            self.capitol.append(self.state)\n",
    "            #print('the gambilier now has {}$'.format(self.state))\n",
    "            \n",
    "            self.reward = self.give_reward()\n",
    "            self.end_condition = []\n",
    "            #print('reward for this flip is {}'.format(self.reward))\n",
    "            #print()\n",
    "            #print()\n",
    "            #print()\n",
    "            rounds += 1\n",
    "            #sleep(1)\n",
    "        return self.reward\n",
    "            \n",
    "            \n",
    "\n",
    "class BaseSampliler:\n",
    "    \n",
    "    def __init__(self, env, table_size=None, learning_rate=None, epsilon=None, discount=None, table=False, theta=None, prob=None, gamma=None):\n",
    "\n",
    "        self.env = env\n",
    "\n",
    "class random(BaseSampliler):\n",
    "    def __init__(self, env):\n",
    "        super().__init__(env)\n",
    "        \n",
    "    def bet(self):\n",
    "        #print('tststs {}'.format(self.env.state))\n",
    "        self.stake = np.random.randint(1, self.env.state+1)\n",
    "        return self.stake\n",
    "    \n",
    "    def update(self):\n",
    "        pass"
   ]
  },
  {
   "cell_type": "code",
   "execution_count": 138,
   "metadata": {},
   "outputs": [],
   "source": [
    "               \n",
    "class BaseSampliler:\n",
    "    \n",
    "    def __init__(self, env, policy=None):\n",
    "\n",
    "        self.env = env"
   ]
  },
  {
   "cell_type": "code",
   "execution_count": 139,
   "metadata": {},
   "outputs": [],
   "source": [
    "class random(BaseSampliler):\n",
    "    def __init__(self, env):\n",
    "        super().__init__(env)\n",
    "        \n",
    "    def bet(self):\n",
    "        #print('tststs {}'.format(self.env.state))\n",
    "        self.stake = np.random.randint(1, self.env.state+1)\n",
    "        return self.stake\n",
    "    \n",
    "    def update(self):\n",
    "        pass"
   ]
  },
  {
   "cell_type": "code",
   "execution_count": 140,
   "metadata": {},
   "outputs": [],
   "source": [
    "Value = np.zeros(100)\n",
    "Value[0] = -1\n",
    "Value[-1] = 1\n",
    "policy = np.zeros(100)\n",
    "gamma = .9\n",
    "\n",
    "def potential_outcome(state, action, Value):\n",
    "    lose = state-action\n",
    "    if lose <= 0:\n",
    "        lose = 0\n",
    "        \n",
    "    win = state + action\n",
    "    if win >= 100:\n",
    "        win = 99\n",
    "        \n",
    "    return (1 - prob_win) * (Value[lose]) + prob_win * (Value[win])\n",
    "\n",
    "for _ in range(1000):\n",
    "    opt_val = 0\n",
    "    for state in range(1, len(Value)):\n",
    "        for action in range(1, state+1):\n",
    "            outcome = potential_outcome(state, action, Value)\n",
    "            if outcome > opt_val:\n",
    "                opt_val = outcome\n",
    "                old_value = Value[state]\n",
    "                Value[state] = outcome\n",
    "                policy[state] = action\n",
    "\n",
    "class value_iteration(BaseSampliler):\n",
    "    def __init__(self, env, policy):\n",
    "        super().__init__(env, policy)\n",
    "        self.policy = policy\n",
    "        \n",
    "    def bet(self):\n",
    "        self.stake = self.policy[self.env.state]\n",
    "        if self.stake == 0:\n",
    "            self.stake = 1\n",
    "        return self.stake\n",
    "    \n",
    "    def update(self):\n",
    "        pass"
   ]
  },
  {
   "cell_type": "code",
   "execution_count": 143,
   "metadata": {},
   "outputs": [],
   "source": [
    "r_end_condition = {-1:0, 1:1}\n",
    "r_bets = []\n",
    "r_capitol = []\n",
    "for i in range(1000):\n",
    "    en0 = gamblers_problem(prob_win)\n",
    "    r = random(en0)\n",
    "    ec = en0.run(agent=r)\n",
    "    r_end_condition[ec] += 1"
   ]
  },
  {
   "cell_type": "code",
   "execution_count": 144,
   "metadata": {},
   "outputs": [],
   "source": [
    "vi_end_condition = {-1:0, 1:1}\n",
    "vi_bets = []\n",
    "vi_capitol = []\n",
    "for i in range(1000):\n",
    "    en1 = gamblers_problem(prob_win)\n",
    "    vi = value_iteration(en1, policy)\n",
    "    ec = en1.run(agent=vi)\n",
    "    vi_end_condition[ec] += 1"
   ]
  },
  {
   "cell_type": "code",
   "execution_count": 145,
   "metadata": {},
   "outputs": [
    {
     "data": {
      "text/plain": [
       "[1, -1]"
      ]
     },
     "execution_count": 145,
     "metadata": {},
     "output_type": "execute_result"
    }
   ],
   "source": [
    "list(r_end_condition.keys())"
   ]
  },
  {
   "cell_type": "code",
   "execution_count": 146,
   "metadata": {},
   "outputs": [
    {
     "data": {
      "text/plain": [
       "dict_values([591, 410])"
      ]
     },
     "execution_count": 146,
     "metadata": {},
     "output_type": "execute_result"
    }
   ],
   "source": [
    "r_end_condition.values()"
   ]
  },
  {
   "cell_type": "code",
   "execution_count": 147,
   "metadata": {},
   "outputs": [
    {
     "data": {
      "image/png": "[encoded data removed]",
      "text/plain": [
       "<Figure size 432x288 with 1 Axes>"
      ]
     },
     "metadata": {
      "needs_background": "light"
     },
     "output_type": "display_data"
    }
   ],
   "source": [
    "plt.bar(r_end_condition.keys(), r_end_condition.values())\n",
    "plt.title('random');"
   ]
  },
  {
   "cell_type": "code",
   "execution_count": 148,
   "metadata": {},
   "outputs": [
    {
     "data": {
      "image/png": "[encoded data removed]",
      "text/plain": [
       "<Figure size 432x288 with 1 Axes>"
      ]
     },
     "metadata": {
      "needs_background": "light"
     },
     "output_type": "display_data"
    }
   ],
   "source": [
    "plt.bar(vi_end_condition.keys(), vi_end_condition.values())\n",
    "plt.title('value iteration');"
   ]
  },
  {
   "cell_type": "code",
   "execution_count": 153,
   "metadata": {},
   "outputs": [
    {
     "data": {
      "text/plain": [
       "Text(0, 0.5, 'bet')"
      ]
     },
     "execution_count": 153,
     "metadata": {},
     "output_type": "execute_result"
    },
    {
     "data": {
      "image/png": "[encoded data removed]",
      "text/plain": [
       "<Figure size 432x288 with 1 Axes>"
      ]
     },
     "metadata": {
      "needs_background": "light"
     },
     "output_type": "display_data"
    }
   ],
   "source": [
    "plt.plot(en0.capitol, en0.all_bets)\n",
    "plt.xlabel('capitol')\n",
    "plt.ylabel('bet')"
   ]
  },
  {
   "cell_type": "code",
   "execution_count": 154,
   "metadata": {},
   "outputs": [
    {
     "data": {
      "text/plain": [
       "Text(0, 0.5, 'bet')"
      ]
     },
     "execution_count": 154,
     "metadata": {},
     "output_type": "execute_result"
    },
    {
     "data": {
      "image/png": "[encoded data removed]",
      "text/plain": [
       "<Figure size 432x288 with 1 Axes>"
      ]
     },
     "metadata": {
      "needs_background": "light"
     },
     "output_type": "display_data"
    }
   ],
   "source": [
    "plt.plot(en1.capitol, en1.all_bets)\n",
    "plt.xlabel('capitol')\n",
    "plt.ylabel('bet')"
   ]
  }
 ],
 "metadata": {
  "kernelspec": {
   "display_name": "Python 3",
   "language": "python",
   "name": "python3"
  },
  "language_info": {
   "codemirror_mode": {
    "name": "ipython",
    "version": 3
   },
   "file_extension": ".py",
   "mimetype": "text/x-python",
   "name": "python",
   "nbconvert_exporter": "python",
   "pygments_lexer": "ipython3",
   "version": "3.5.2"
  }
 },
 "nbformat": 4,
 "nbformat_minor": 4
}

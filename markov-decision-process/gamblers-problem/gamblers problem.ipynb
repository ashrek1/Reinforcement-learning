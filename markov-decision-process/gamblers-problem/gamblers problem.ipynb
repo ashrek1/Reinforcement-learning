{
 "cells": [
  {
   "cell_type": "code",
   "execution_count": 8,
   "metadata": {},
   "outputs": [],
   "source": [
    "import numpy as np\n",
    "from IPython.display import clear_output\n",
    "from time import sleep\n",
    "import matplotlib.pyplot as plt"
   ]
  },
  {
   "cell_type": "code",
   "execution_count": 7,
   "metadata": {},
   "outputs": [],
   "source": [
    "prob_win=.6\n",
    "class gamblers_problem:\n",
    "    def __init__(self, prob_win):\n",
    "        self.state = np.random.randint(40, 60)\n",
    "        self.not_over = True\n",
    "        self.reward = 0\n",
    "        self.prob_win = prob_win\n",
    "        \n",
    "        self.all_bets = []\n",
    "        self.capitol  = []\n",
    "        self.end_condition = []\n",
    "        \n",
    "    def bet_result(self, stake):\n",
    "        if np.random.random() <= self.prob_win:\n",
    "            self.state += stake\n",
    "            #print('the gambiler the gambiler won ')\n",
    "            return int(self.state)\n",
    "        else:\n",
    "            self.state -= stake\n",
    "            #print('the gambiler lost')\n",
    "            return int(self.state)\n",
    "            \n",
    "    def give_reward(self):\n",
    "        if self.state <= 0:\n",
    "            self.not_over = False\n",
    "            return -1\n",
    "        elif self.state >= 100:\n",
    "            self.not_over = False\n",
    "            return +1\n",
    "        else:\n",
    "            return 0\n",
    "        \n",
    "    def run(self, agent):\n",
    "        rounds = 1\n",
    "        while self.not_over:\n",
    "            clear_output(wait=True)\n",
    "            print('round {}'.format(rounds))\n",
    "            print()\n",
    "            print('the gambiler currently has: ${}'.format(self.state))\n",
    "            \n",
    "            stake = agent.bet()\n",
    "            self.all_bets.append(stake)\n",
    "            print('the gambiler bet: ${}'.format(stake))\n",
    "            \n",
    "            \n",
    "            self.state = self.bet_result(stake)\n",
    "            self.capitol.append(self.state)\n",
    "            print('the gambilier now has {}$'.format(self.state))\n",
    "            \n",
    "            self.reward = self.give_reward()\n",
    "            self.end_condition = []\n",
    "            print('reward for this flip is {}'.format(self.reward))\n",
    "            print()\n",
    "            print()\n",
    "            print()\n",
    "            rounds += 1\n",
    "            #sleep(.5)\n",
    "        return self.reward"
   ]
  },
  {
   "cell_type": "code",
   "execution_count": null,
   "metadata": {},
   "outputs": [],
   "source": [
    "gamblers_problem."
   ]
  },
  {
   "cell_type": "code",
   "execution_count": 3,
   "metadata": {},
   "outputs": [],
   "source": [
    "class BaseSampliler:\n",
    "    \n",
    "    def __init__(self, env, policy=None):\n",
    "\n",
    "        self.env = env"
   ]
  },
  {
   "cell_type": "code",
   "execution_count": 4,
   "metadata": {},
   "outputs": [],
   "source": [
    "class random(BaseSampliler):\n",
    "    def __init__(self, env):\n",
    "        super().__init__(env)\n",
    "        \n",
    "    def bet(self):\n",
    "        #print('tststs {}'.format(self.env.state))\n",
    "        self.stake = np.random.randint(1, self.env.state+1)\n",
    "        return self.stake\n",
    "    \n",
    "    def update(self):\n",
    "        pass"
   ]
  },
  {
   "cell_type": "code",
   "execution_count": 6,
   "metadata": {
    "scrolled": false
   },
   "outputs": [
    {
     "name": "stdout",
     "output_type": "stream",
     "text": [
      "0.0\n",
      "\n",
      "values\n",
      "[-1.         -1.17498681 -1.12497801 -1.08741175 -1.04163002 -1.00802495\n",
      " -0.97901959 -0.93796692 -0.9027167  -0.87612598 -0.84670826 -0.82289571\n",
      " -0.79836598 -0.76350607 -0.72994487 -0.70013304 -0.6711945  -0.64798915\n",
      " -0.62687663 -0.60202689 -0.57784709 -0.55647946 -0.53815952 -0.51817871\n",
      " -0.49727664 -0.44       -0.43917678 -0.41027023 -0.38324146 -0.3555174\n",
      " -0.33355507 -0.3056     -0.28532417 -0.26315789 -0.24664858 -0.22624102\n",
      " -0.21146105 -0.19436908 -0.17004482 -0.14721277 -0.12974516 -0.1093376\n",
      " -0.09413243 -0.08108778 -0.0635992  -0.04775438 -0.03029785 -0.01133107\n",
      "  0.00453893  0.02346215  0.1         0.10415971  0.10137203  0.12481323\n",
      "  0.14954961  0.17084172  0.19459757  0.21994678  0.24080434  0.25918924\n",
      "  0.27740822  0.29272852  0.324       0.33589191  0.35779304  0.37776\n",
      "  0.39473684  0.40950359  0.42225237  0.44111489  0.45626496  0.46756489\n",
      "  0.48089825  0.49546757  0.50938486  0.54166388  0.54992529  0.56833669\n",
      "  0.58797871  0.6036757   0.61709141  0.63435676  0.651104    0.66380144\n",
      "  0.67644596  0.68702595  0.69818703  0.71666555  0.72733467  0.74147028\n",
      "  0.7537427   0.76552057  0.77481038  0.78666622  0.79658811  0.80620823\n",
      "  0.81466649  0.82248329  0.83159733  1.        ]\n",
      "\n",
      "policy\n"
     ]
    },
    {
     "ename": "KeyboardInterrupt",
     "evalue": "",
     "output_type": "error",
     "traceback": [
      "\u001b[0;31m---------------------------------------------------------------------------\u001b[0m",
      "\u001b[0;31mKeyboardInterrupt\u001b[0m                         Traceback (most recent call last)",
      "\u001b[0;32m<ipython-input-6-2e1ecbc5f59e>\u001b[0m in \u001b[0;36m<module>\u001b[0;34m\u001b[0m\n\u001b[1;32m     42\u001b[0m                 \u001b[0mprint\u001b[0m\u001b[0;34m(\u001b[0m\u001b[0;34m)\u001b[0m\u001b[0;34m\u001b[0m\u001b[0m\n\u001b[1;32m     43\u001b[0m                 \u001b[0mprint\u001b[0m\u001b[0;34m(\u001b[0m\u001b[0;34m'policy'\u001b[0m\u001b[0;34m)\u001b[0m\u001b[0;34m\u001b[0m\u001b[0m\n\u001b[0;32m---> 44\u001b[0;31m                 \u001b[0mprint\u001b[0m\u001b[0;34m(\u001b[0m\u001b[0mpolicy\u001b[0m\u001b[0;34m)\u001b[0m\u001b[0;34m\u001b[0m\u001b[0m\n\u001b[0m\u001b[1;32m     45\u001b[0m     \u001b[0;32mif\u001b[0m \u001b[0mstop\u001b[0m \u001b[0;34m<\u001b[0m \u001b[0mtheta\u001b[0m\u001b[0;34m:\u001b[0m\u001b[0;34m\u001b[0m\u001b[0m\n\u001b[1;32m     46\u001b[0m         \u001b[0mclear_output\u001b[0m\u001b[0;34m(\u001b[0m\u001b[0mwait\u001b[0m\u001b[0;34m=\u001b[0m\u001b[0;32mTrue\u001b[0m\u001b[0;34m)\u001b[0m\u001b[0;34m\u001b[0m\u001b[0m\n",
      "\u001b[0;32m~/.local/lib/python3.5/site-packages/numpy/core/arrayprint.py\u001b[0m in \u001b[0;36m_array_str_implementation\u001b[0;34m(a, max_line_width, precision, suppress_small, array2string)\u001b[0m\n\u001b[1;32m   1504\u001b[0m         \u001b[0;32mreturn\u001b[0m \u001b[0m_guarded_repr_or_str\u001b[0m\u001b[0;34m(\u001b[0m\u001b[0mnp\u001b[0m\u001b[0;34m.\u001b[0m\u001b[0mndarray\u001b[0m\u001b[0;34m.\u001b[0m\u001b[0m__getitem__\u001b[0m\u001b[0;34m(\u001b[0m\u001b[0ma\u001b[0m\u001b[0;34m,\u001b[0m \u001b[0;34m(\u001b[0m\u001b[0;34m)\u001b[0m\u001b[0;34m)\u001b[0m\u001b[0;34m)\u001b[0m\u001b[0;34m\u001b[0m\u001b[0m\n\u001b[1;32m   1505\u001b[0m \u001b[0;34m\u001b[0m\u001b[0m\n\u001b[0;32m-> 1506\u001b[0;31m     \u001b[0;32mreturn\u001b[0m \u001b[0marray2string\u001b[0m\u001b[0;34m(\u001b[0m\u001b[0ma\u001b[0m\u001b[0;34m,\u001b[0m \u001b[0mmax_line_width\u001b[0m\u001b[0;34m,\u001b[0m \u001b[0mprecision\u001b[0m\u001b[0;34m,\u001b[0m \u001b[0msuppress_small\u001b[0m\u001b[0;34m,\u001b[0m \u001b[0;34m' '\u001b[0m\u001b[0;34m,\u001b[0m \u001b[0;34m\"\"\u001b[0m\u001b[0;34m)\u001b[0m\u001b[0;34m\u001b[0m\u001b[0m\n\u001b[0m\u001b[1;32m   1507\u001b[0m \u001b[0;34m\u001b[0m\u001b[0m\n\u001b[1;32m   1508\u001b[0m \u001b[0;34m\u001b[0m\u001b[0m\n",
      "\u001b[0;32m~/.local/lib/python3.5/site-packages/numpy/core/arrayprint.py\u001b[0m in \u001b[0;36marray2string\u001b[0;34m(a, max_line_width, precision, suppress_small, separator, prefix, style, formatter, threshold, edgeitems, sign, floatmode, suffix, **kwarg)\u001b[0m\n\u001b[1;32m    710\u001b[0m         \u001b[0;32mreturn\u001b[0m \u001b[0;34m\"[]\"\u001b[0m\u001b[0;34m\u001b[0m\u001b[0m\n\u001b[1;32m    711\u001b[0m \u001b[0;34m\u001b[0m\u001b[0m\n\u001b[0;32m--> 712\u001b[0;31m     \u001b[0;32mreturn\u001b[0m \u001b[0m_array2string\u001b[0m\u001b[0;34m(\u001b[0m\u001b[0ma\u001b[0m\u001b[0;34m,\u001b[0m \u001b[0moptions\u001b[0m\u001b[0;34m,\u001b[0m \u001b[0mseparator\u001b[0m\u001b[0;34m,\u001b[0m \u001b[0mprefix\u001b[0m\u001b[0;34m)\u001b[0m\u001b[0;34m\u001b[0m\u001b[0m\n\u001b[0m\u001b[1;32m    713\u001b[0m \u001b[0;34m\u001b[0m\u001b[0m\n\u001b[1;32m    714\u001b[0m \u001b[0;34m\u001b[0m\u001b[0m\n",
      "\u001b[0;32m~/.local/lib/python3.5/site-packages/numpy/core/arrayprint.py\u001b[0m in \u001b[0;36mwrapper\u001b[0;34m(self, *args, **kwargs)\u001b[0m\n\u001b[1;32m    482\u001b[0m             \u001b[0mrepr_running\u001b[0m\u001b[0;34m.\u001b[0m\u001b[0madd\u001b[0m\u001b[0;34m(\u001b[0m\u001b[0mkey\u001b[0m\u001b[0;34m)\u001b[0m\u001b[0;34m\u001b[0m\u001b[0m\n\u001b[1;32m    483\u001b[0m             \u001b[0;32mtry\u001b[0m\u001b[0;34m:\u001b[0m\u001b[0;34m\u001b[0m\u001b[0m\n\u001b[0;32m--> 484\u001b[0;31m                 \u001b[0;32mreturn\u001b[0m \u001b[0mf\u001b[0m\u001b[0;34m(\u001b[0m\u001b[0mself\u001b[0m\u001b[0;34m,\u001b[0m \u001b[0;34m*\u001b[0m\u001b[0margs\u001b[0m\u001b[0;34m,\u001b[0m \u001b[0;34m**\u001b[0m\u001b[0mkwargs\u001b[0m\u001b[0;34m)\u001b[0m\u001b[0;34m\u001b[0m\u001b[0m\n\u001b[0m\u001b[1;32m    485\u001b[0m             \u001b[0;32mfinally\u001b[0m\u001b[0;34m:\u001b[0m\u001b[0;34m\u001b[0m\u001b[0m\n\u001b[1;32m    486\u001b[0m                 \u001b[0mrepr_running\u001b[0m\u001b[0;34m.\u001b[0m\u001b[0mdiscard\u001b[0m\u001b[0;34m(\u001b[0m\u001b[0mkey\u001b[0m\u001b[0;34m)\u001b[0m\u001b[0;34m\u001b[0m\u001b[0m\n",
      "\u001b[0;32m~/.local/lib/python3.5/site-packages/numpy/core/arrayprint.py\u001b[0m in \u001b[0;36m_array2string\u001b[0;34m(a, options, separator, prefix)\u001b[0m\n\u001b[1;32m    517\u001b[0m     lst = _formatArray(a, format_function, options['linewidth'],\n\u001b[1;32m    518\u001b[0m                        \u001b[0mnext_line_prefix\u001b[0m\u001b[0;34m,\u001b[0m \u001b[0mseparator\u001b[0m\u001b[0;34m,\u001b[0m \u001b[0moptions\u001b[0m\u001b[0;34m[\u001b[0m\u001b[0;34m'edgeitems'\u001b[0m\u001b[0;34m]\u001b[0m\u001b[0;34m,\u001b[0m\u001b[0;34m\u001b[0m\u001b[0m\n\u001b[0;32m--> 519\u001b[0;31m                        summary_insert, options['legacy'])\n\u001b[0m\u001b[1;32m    520\u001b[0m     \u001b[0;32mreturn\u001b[0m \u001b[0mlst\u001b[0m\u001b[0;34m\u001b[0m\u001b[0m\n\u001b[1;32m    521\u001b[0m \u001b[0;34m\u001b[0m\u001b[0m\n",
      "\u001b[0;32m~/.local/lib/python3.5/site-packages/numpy/core/arrayprint.py\u001b[0m in \u001b[0;36m_formatArray\u001b[0;34m(a, format_function, line_width, next_line_prefix, separator, edge_items, summary_insert, legacy)\u001b[0m\n\u001b[1;32m    838\u001b[0m         return recurser(index=(),\n\u001b[1;32m    839\u001b[0m                         \u001b[0mhanging_indent\u001b[0m\u001b[0;34m=\u001b[0m\u001b[0mnext_line_prefix\u001b[0m\u001b[0;34m,\u001b[0m\u001b[0;34m\u001b[0m\u001b[0m\n\u001b[0;32m--> 840\u001b[0;31m                         curr_width=line_width)\n\u001b[0m\u001b[1;32m    841\u001b[0m     \u001b[0;32mfinally\u001b[0m\u001b[0;34m:\u001b[0m\u001b[0;34m\u001b[0m\u001b[0m\n\u001b[1;32m    842\u001b[0m         \u001b[0;31m# recursive closures have a cyclic reference to themselves, which\u001b[0m\u001b[0;34m\u001b[0m\u001b[0;34m\u001b[0m\u001b[0m\n",
      "\u001b[0;32m~/.local/lib/python3.5/site-packages/numpy/core/arrayprint.py\u001b[0m in \u001b[0;36mrecurser\u001b[0;34m(index, hanging_indent, curr_width)\u001b[0m\n\u001b[1;32m    792\u001b[0m \u001b[0;34m\u001b[0m\u001b[0m\n\u001b[1;32m    793\u001b[0m             \u001b[0;32mfor\u001b[0m \u001b[0mi\u001b[0m \u001b[0;32min\u001b[0m \u001b[0mrange\u001b[0m\u001b[0;34m(\u001b[0m\u001b[0mtrailing_items\u001b[0m\u001b[0;34m,\u001b[0m \u001b[0;36m1\u001b[0m\u001b[0;34m,\u001b[0m \u001b[0;34m-\u001b[0m\u001b[0;36m1\u001b[0m\u001b[0;34m)\u001b[0m\u001b[0;34m:\u001b[0m\u001b[0;34m\u001b[0m\u001b[0m\n\u001b[0;32m--> 794\u001b[0;31m                 \u001b[0mword\u001b[0m \u001b[0;34m=\u001b[0m \u001b[0mrecurser\u001b[0m\u001b[0;34m(\u001b[0m\u001b[0mindex\u001b[0m \u001b[0;34m+\u001b[0m \u001b[0;34m(\u001b[0m\u001b[0;34m-\u001b[0m\u001b[0mi\u001b[0m\u001b[0;34m,\u001b[0m\u001b[0;34m)\u001b[0m\u001b[0;34m,\u001b[0m \u001b[0mnext_hanging_indent\u001b[0m\u001b[0;34m,\u001b[0m \u001b[0mnext_width\u001b[0m\u001b[0;34m)\u001b[0m\u001b[0;34m\u001b[0m\u001b[0m\n\u001b[0m\u001b[1;32m    795\u001b[0m                 s, line = _extendLine(\n\u001b[1;32m    796\u001b[0m                     s, line, word, elem_width, hanging_indent, legacy)\n",
      "\u001b[0;32m~/.local/lib/python3.5/site-packages/numpy/core/arrayprint.py\u001b[0m in \u001b[0;36mrecurser\u001b[0;34m(index, hanging_indent, curr_width)\u001b[0m\n\u001b[1;32m    746\u001b[0m \u001b[0;34m\u001b[0m\u001b[0m\n\u001b[1;32m    747\u001b[0m         \u001b[0;32mif\u001b[0m \u001b[0maxes_left\u001b[0m \u001b[0;34m==\u001b[0m \u001b[0;36m0\u001b[0m\u001b[0;34m:\u001b[0m\u001b[0;34m\u001b[0m\u001b[0m\n\u001b[0;32m--> 748\u001b[0;31m             \u001b[0;32mreturn\u001b[0m \u001b[0mformat_function\u001b[0m\u001b[0;34m(\u001b[0m\u001b[0ma\u001b[0m\u001b[0;34m[\u001b[0m\u001b[0mindex\u001b[0m\u001b[0;34m]\u001b[0m\u001b[0;34m)\u001b[0m\u001b[0;34m\u001b[0m\u001b[0m\n\u001b[0m\u001b[1;32m    749\u001b[0m \u001b[0;34m\u001b[0m\u001b[0m\n\u001b[1;32m    750\u001b[0m         \u001b[0;31m# when recursing, add a space to align with the [ added, and reduce the\u001b[0m\u001b[0;34m\u001b[0m\u001b[0;34m\u001b[0m\u001b[0m\n",
      "\u001b[0;32m~/.local/lib/python3.5/site-packages/numpy/core/arrayprint.py\u001b[0m in \u001b[0;36m__call__\u001b[0;34m(self, x)\u001b[0m\n\u001b[1;32m    990\u001b[0m                                       \u001b[0mfractional\u001b[0m\u001b[0;34m=\u001b[0m\u001b[0;32mTrue\u001b[0m\u001b[0;34m,\u001b[0m\u001b[0;34m\u001b[0m\u001b[0m\n\u001b[1;32m    991\u001b[0m                                       \u001b[0mtrim\u001b[0m\u001b[0;34m=\u001b[0m\u001b[0mself\u001b[0m\u001b[0;34m.\u001b[0m\u001b[0mtrim\u001b[0m\u001b[0;34m,\u001b[0m\u001b[0;34m\u001b[0m\u001b[0m\n\u001b[0;32m--> 992\u001b[0;31m                                       \u001b[0msign\u001b[0m\u001b[0;34m=\u001b[0m\u001b[0mself\u001b[0m\u001b[0;34m.\u001b[0m\u001b[0msign\u001b[0m \u001b[0;34m==\u001b[0m \u001b[0;34m'+'\u001b[0m\u001b[0;34m,\u001b[0m\u001b[0;34m\u001b[0m\u001b[0m\n\u001b[0m\u001b[1;32m    993\u001b[0m                                       \u001b[0mpad_left\u001b[0m\u001b[0;34m=\u001b[0m\u001b[0mself\u001b[0m\u001b[0;34m.\u001b[0m\u001b[0mpad_left\u001b[0m\u001b[0;34m,\u001b[0m\u001b[0;34m\u001b[0m\u001b[0m\n\u001b[1;32m    994\u001b[0m                                       pad_right=self.pad_right)\n",
      "\u001b[0;31mKeyboardInterrupt\u001b[0m: "
     ]
    }
   ],
   "source": [
    "Value = np.zeros(100)\n",
    "Value[0] = -1\n",
    "Value[-1] = 1\n",
    "policy = np.zeros(100)\n",
    "gamma = .9\n",
    "theta = 0.0001\n",
    "\n",
    "def potential_outcome(state, action, Value):\n",
    "    lose = state-action\n",
    "    if lose <= 0:\n",
    "        lose = 0\n",
    "        \n",
    "    win = state + action\n",
    "    if win >= 100:\n",
    "        win = 99\n",
    "        \n",
    "    return (1 - prob_win) * (Value[lose]) + prob_win * (Value[win]) - 0.1\n",
    "\n",
    "converged_at = 0\n",
    "while True: \n",
    "    converged_at += 1\n",
    "    opt_val = -10\n",
    "    for state in range(1, len(Value)):\n",
    "        #print(\"state {}\".format(state))\n",
    "        for action in range(1, state+1):\n",
    "         #   print(action)\n",
    "            outcome = potential_outcome(state, action, Value)\n",
    "            if outcome > opt_val:\n",
    "          #      print(action)\n",
    "                opt_val = outcome\n",
    "                old_value = Value[state]\n",
    "                if state == 99:\n",
    "                    state = 98\n",
    "                Value[state] = outcome\n",
    "                policy[state] = action\n",
    "                stop = abs(old_value - outcome)\n",
    "                clear_output(wait=True)\n",
    "                print(stop)\n",
    "                print()\n",
    "                print('values')\n",
    "                print(Value)\n",
    "                print()\n",
    "                print('policy')\n",
    "                print(policy)\n",
    "    if stop < theta:\n",
    "        clear_output(wait=True)\n",
    "        print('converged on the {} loop'.format(converged_at))\n",
    "        print(stop)\n",
    "        print()\n",
    "        print(Value)\n",
    "        print()\n",
    "        print(policy)\n",
    "        break\n",
    "\n",
    "\n",
    "\n",
    "\n",
    "class value_iteration(BaseSampliler):\n",
    "    def __init__(self, env, policy):\n",
    "        super().__init__(env, policy)\n",
    "        self.policy = policy\n",
    "        \n",
    "    def bet(self):\n",
    "        self.stake = self.policy[self.env.state]\n",
    "        if self.stake == 0:\n",
    "            self.stake = 1\n",
    "        return self.stake\n",
    "    \n",
    "    def update(self):\n",
    "        pass"
   ]
  },
  {
   "cell_type": "code",
   "execution_count": null,
   "metadata": {},
   "outputs": [],
   "source": [
    "Value"
   ]
  },
  {
   "cell_type": "code",
   "execution_count": null,
   "metadata": {},
   "outputs": [],
   "source": [
    "policy"
   ]
  },
  {
   "cell_type": "code",
   "execution_count": null,
   "metadata": {},
   "outputs": [],
   "source": [
    "en0 = gamblers_problem(prob_win)\n",
    "r = random(en0)\n",
    "en0.run(agent=r)"
   ]
  },
  {
   "cell_type": "code",
   "execution_count": null,
   "metadata": {},
   "outputs": [],
   "source": [
    "en1 = gamblers_problem(prob_win)\n",
    "vi = value_iteration(en1, policy)\n",
    "en1.run(agent=vi)"
   ]
  },
  {
   "cell_type": "code",
   "execution_count": null,
   "metadata": {},
   "outputs": [],
   "source": []
  },
  {
   "cell_type": "code",
   "execution_count": null,
   "metadata": {},
   "outputs": [],
   "source": []
  },
  {
   "cell_type": "code",
   "execution_count": null,
   "metadata": {},
   "outputs": [],
   "source": [
    "r_end_condition = {-1:0, 1:0}\n",
    "r_bets = []\n",
    "r_capitol = []\n",
    "for i in range(1000):\n",
    "    en0 = gamblers_problem(prob_win)\n",
    "    r = random(en0)\n",
    "    ec = en0.run(agent=r)\n",
    "    r_end_condition[ec] += 1"
   ]
  },
  {
   "cell_type": "code",
   "execution_count": null,
   "metadata": {},
   "outputs": [],
   "source": [
    "vi_end_condition = {-1:0, 1:0}\n",
    "vi_bets = []\n",
    "vi_capitol = []\n",
    "for i in range(1000):\n",
    "    en1 = gamblers_problem(prob_win)\n",
    "    vi = value_iteration(en1, policy)\n",
    "    ec = en1.run(agent=vi)\n",
    "    vi_end_condition[ec] += 1"
   ]
  },
  {
   "cell_type": "code",
   "execution_count": null,
   "metadata": {},
   "outputs": [],
   "source": [
    "plt.plot(range(100), Value)"
   ]
  },
  {
   "cell_type": "code",
   "execution_count": null,
   "metadata": {},
   "outputs": [],
   "source": [
    "plt.plot(range(100), policy)"
   ]
  },
  {
   "cell_type": "code",
   "execution_count": null,
   "metadata": {},
   "outputs": [],
   "source": [
    "r_end_condition"
   ]
  },
  {
   "cell_type": "code",
   "execution_count": null,
   "metadata": {},
   "outputs": [],
   "source": [
    "plt.bar(r_end_condition.keys(), r_end_condition.values())\n",
    "plt.title('random');"
   ]
  },
  {
   "cell_type": "code",
   "execution_count": null,
   "metadata": {},
   "outputs": [],
   "source": [
    "vi_end_condition"
   ]
  },
  {
   "cell_type": "code",
   "execution_count": null,
   "metadata": {},
   "outputs": [],
   "source": [
    "plt.bar(['win', 'lose'], np.array(list(vi_end_condition.values()))/1000)\n",
    "plt.title('value iteration');"
   ]
  },
  {
   "cell_type": "code",
   "execution_count": null,
   "metadata": {},
   "outputs": [],
   "source": [
    "plt.plot(en1.all_bets)"
   ]
  },
  {
   "cell_type": "code",
   "execution_count": null,
   "metadata": {
    "scrolled": true
   },
   "outputs": [],
   "source": [
    "plt.plot(en1.capitol)"
   ]
  },
  {
   "cell_type": "code",
   "execution_count": null,
   "metadata": {},
   "outputs": [],
   "source": [
    "Value = np.zeros(100)\n",
    "Value[0] = -1\n",
    "Value[-1] = 1\n",
    "policy = np.zeros(100)\n",
    "gamma = .9\n",
    "theta = 0.0001\n",
    "\n",
    "for i in range(1): \n",
    "    opt_val = 0\n",
    "    for state in range(1, len(Value)):\n",
    "        #print(\"state {}\".format(state))\n",
    "        for action in range(1, state+1):\n",
    "            #print(action)\n",
    "            outcome = potential_outcome(state, action, Value)\n",
    "            if outcome > opt_val:\n",
    "                opt_val = outcome\n",
    "                old_value = Value[state]\n",
    "                Value[state] = outcome\n",
    "                policy[state] = action\n",
    "print(Value)\n",
    "print()\n",
    "print(policy)"
   ]
  },
  {
   "cell_type": "code",
   "execution_count": null,
   "metadata": {},
   "outputs": [],
   "source": [
    "Value = np.zeros(100)\n",
    "Value[0] = -1\n",
    "Value[-1] = 1\n",
    "policy = np.zeros(100)\n",
    "gamma = .9\n",
    "theta = 0.0001\n",
    "\n",
    "for i in range(5): \n",
    "    opt_val = 0\n",
    "    for state in range(1, len(Value)):\n",
    "        #print(\"state {}\".format(state))\n",
    "        for action in range(1, state+1):\n",
    "            #print(action)\n",
    "            outcome = potential_outcome(state, action, Value)\n",
    "            if outcome > opt_val:\n",
    "                opt_val = outcome\n",
    "                old_value = Value[state]\n",
    "                Value[state] = outcome\n",
    "                policy[state] = action\n",
    "print(Value)\n",
    "print()\n",
    "print(policy)"
   ]
  },
  {
   "cell_type": "code",
   "execution_count": null,
   "metadata": {},
   "outputs": [],
   "source": [
    "Value = np.zeros(100)\n",
    "Value[0] = -1\n",
    "Value[-1] = 1\n",
    "policy = np.zeros(100)\n",
    "gamma = .9\n",
    "theta = 0.0001\n",
    "\n",
    "for i in range(10): \n",
    "    opt_val = 0\n",
    "    for state in range(1, len(Value)):\n",
    "        #print(\"state {}\".format(state))\n",
    "        for action in range(1, state+1):\n",
    "            #print(action)\n",
    "            outcome = potential_outcome(state, action, Value)\n",
    "            if outcome > opt_val:\n",
    "                opt_val = outcome\n",
    "                old_value = Value[state]\n",
    "                Value[state] = outcome\n",
    "                policy[state] = action\n",
    "print(Value)\n",
    "print()\n",
    "print(policy)"
   ]
  },
  {
   "cell_type": "code",
   "execution_count": null,
   "metadata": {},
   "outputs": [],
   "source": [
    "Value = np.zeros(100)\n",
    "Value[0] = -1\n",
    "Value[-1] = 1\n",
    "policy = np.zeros(100)\n",
    "gamma = .9\n",
    "theta = 0.0001\n",
    "\n",
    "for i in range(25): \n",
    "    opt_val = 0\n",
    "    for state in range(1, len(Value)):\n",
    "        #print(\"state {}\".format(state))\n",
    "        for action in range(1, state+1):\n",
    "            #print(action)\n",
    "            outcome = potential_outcome(state, action, Value)\n",
    "            if outcome > opt_val:\n",
    "                opt_val = outcome\n",
    "                old_value = Value[state]\n",
    "                Value[state] = outcome\n",
    "                policy[state] = action\n",
    "print(Value)\n",
    "print()\n",
    "print(policy)"
   ]
  },
  {
   "cell_type": "code",
   "execution_count": null,
   "metadata": {},
   "outputs": [],
   "source": [
    "Value = np.zeros(100)\n",
    "Value[0] = -1\n",
    "Value[-1] = 1\n",
    "policy = np.zeros(100)\n",
    "gamma = .9\n",
    "theta = 0.0001\n",
    "\n",
    "for i in range(50): \n",
    "    opt_val = 0\n",
    "    for state in range(1, len(Value)):\n",
    "        #print(\"state {}\".format(state))\n",
    "        for action in range(1, state+1):\n",
    "            #print(action)\n",
    "            outcome = potential_outcome(state, action, Value)\n",
    "            if outcome > opt_val:\n",
    "                opt_val = outcome\n",
    "                old_value = Value[state]\n",
    "                Value[state] = outcome\n",
    "                policy[state] = action\n",
    "print(Value)\n",
    "print()\n",
    "print(policy)"
   ]
  },
  {
   "cell_type": "code",
   "execution_count": null,
   "metadata": {},
   "outputs": [],
   "source": [
    "Value = np.zeros(100)\n",
    "Value[0] = -1\n",
    "Value[-1] = 1\n",
    "policy = np.zeros(100)\n",
    "gamma = .9\n",
    "theta = 0.0001\n",
    "\n",
    "for i in range(100): \n",
    "    opt_val = 0\n",
    "    for state in range(1, len(Value)):\n",
    "        #print(\"state {}\".format(state))\n",
    "        for action in range(1, state+1):\n",
    "            #print(action)\n",
    "            outcome = potential_outcome(state, action, Value)\n",
    "            if outcome > opt_val:\n",
    "                opt_val = outcome\n",
    "                old_value = Value[state]\n",
    "                Value[state] = outcome\n",
    "                policy[state] = action\n",
    "print(Value)\n",
    "print()\n",
    "print(policy)"
   ]
  },
  {
   "cell_type": "code",
   "execution_count": null,
   "metadata": {},
   "outputs": [],
   "source": [
    "Value = np.zeros(100)\n",
    "Value[0] = -1\n",
    "Value[-1] = 1\n",
    "policy = np.zeros(100)\n",
    "gamma = .9\n",
    "theta = 0.0001\n",
    "\n",
    "for i in range(200): \n",
    "    opt_val = 0\n",
    "    for state in range(1, len(Value)):\n",
    "        #print(\"state {}\".format(state))\n",
    "        for action in range(1, state+1):\n",
    "            #print(action)\n",
    "            outcome = potential_outcome(state, action, Value)\n",
    "            if outcome > opt_val:\n",
    "                opt_val = outcome\n",
    "                old_value = Value[state]\n",
    "                Value[state] = outcome\n",
    "                policy[state] = action\n",
    "print(Value)\n",
    "print()\n",
    "print(policy)"
   ]
  },
  {
   "cell_type": "code",
   "execution_count": null,
   "metadata": {},
   "outputs": [],
   "source": [
    "Value = np.zeros(100)\n",
    "Value[0] = -1\n",
    "Value[-1] = 1\n",
    "policy = np.zeros(100)\n",
    "gamma = .9\n",
    "theta = 0.0001\n",
    "\n",
    "for i in range(500): \n",
    "    opt_val = 0\n",
    "    for state in range(1, len(Value)):\n",
    "        #print(\"state {}\".format(state))\n",
    "        for action in range(1, state+1):\n",
    "            #print(action)\n",
    "            outcome = potential_outcome(state, action, Value)\n",
    "            if outcome > opt_val:\n",
    "                opt_val = outcome\n",
    "                old_value = Value[state]\n",
    "                Value[state] = outcome\n",
    "                policy[state] = action\n",
    "print(Value)\n",
    "print()\n",
    "print(policy)"
   ]
  },
  {
   "cell_type": "code",
   "execution_count": null,
   "metadata": {},
   "outputs": [],
   "source": []
  },
  {
   "cell_type": "code",
   "execution_count": null,
   "metadata": {},
   "outputs": [],
   "source": []
  }
 ],
 "metadata": {
  "kernelspec": {
   "display_name": "Python 3",
   "language": "python",
   "name": "python3"
  },
  "language_info": {
   "codemirror_mode": {
    "name": "ipython",
    "version": 3
   },
   "file_extension": ".py",
   "mimetype": "text/x-python",
   "name": "python",
   "nbconvert_exporter": "python",
   "pygments_lexer": "ipython3",
   "version": "3.5.2"
  }
 },
 "nbformat": 4,
 "nbformat_minor": 4
}
